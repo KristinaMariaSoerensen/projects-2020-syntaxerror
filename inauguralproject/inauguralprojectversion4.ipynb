{
 "cells": [
  {
   "cell_type": "markdown",
   "metadata": {},
   "source": [
    "# Inaugural Project"
   ]
  },
  {
   "cell_type": "markdown",
   "metadata": {},
   "source": [
    "> **Note the following:** \n",
    "> 1. This is an example of how to structure your **inaugural project**.\n",
    "> 1. Remember the general advice on structuring and commenting your code from [lecture 5](https://numeconcopenhagen.netlify.com/lectures/Workflow_and_debugging).\n",
    "> 1. Remember this [guide](https://www.markdownguide.org/basic-syntax/) on markdown and (a bit of) latex.\n",
    "> 1. Turn on automatic numbering by clicking on the small icon on top of the table of contents in the left sidebar.\n",
    "> 1. The `inauguralproject.py` file includes a function which can be used multiple times in this notebook."
   ]
  },
  {
   "cell_type": "markdown",
   "metadata": {},
   "source": [
    "Imports and set magics:"
   ]
  },
  {
   "cell_type": "code",
   "execution_count": 43,
   "metadata": {},
   "outputs": [
    {
     "name": "stdout",
     "output_type": "stream",
     "text": [
      "The autoreload extension is already loaded. To reload it, use:\n",
      "  %reload_ext autoreload\n",
      "The autoreload extension is already loaded. To reload it, use:\n",
      "  %reload_ext autoreload\n"
     ]
    }
   ],
   "source": [
    "import numpy as np\n",
    "from scipy import optimize \n",
    "# autoreload modules when code is run\n",
    "%load_ext autoreload\n",
    "%autoreload 2\n",
    "\n",
    "# local modules\n",
    "import inauguralproject\n",
    "\n",
    "\n",
    "%matplotlib inline\n",
    "%load_ext autoreload\n",
    "%autoreload 2\n",
    "\n",
    "import matplotlib.pyplot as plt\n",
    "plt.style.use('seaborn-whitegrid')\n",
    "prop_cycle = plt.rcParams['axes.prop_cycle']\n",
    "colors = prop_cycle.by_key()['color']\n",
    "from mpl_toolkits.mplot3d import Axes3D\n",
    "from mpl_toolkits.mplot3d.art3d import Poly3DCollection, Line3DCollection\n",
    "import ipywidgets as widgets\n"
   ]
  },
  {
   "cell_type": "markdown",
   "metadata": {
    "toc-hr-collapsed": true
   },
   "source": [
    "# Question 1"
   ]
  },
  {
   "cell_type": "markdown",
   "metadata": {},
   "source": [
    "We first define the model "
   ]
  },
  {
   "cell_type": "code",
   "execution_count": 97,
   "metadata": {},
   "outputs": [
    {
     "name": "stdout",
     "output_type": "stream",
     "text": [
      "Optimal labour supply is 0.382\n",
      "Optimal consumption is 1.231\n",
      "maximized utility is 0.172\n"
     ]
    },
    {
     "name": "stderr",
     "output_type": "stream",
     "text": [
      "C:\\Users\\Frede\\Anaconda3\\lib\\site-packages\\ipykernel_launcher.py:14: RuntimeWarning: invalid value encountered in log\n",
      "  \n"
     ]
    }
   ],
   "source": [
    "# We begin with setting the parameters\n",
    "\n",
    "m = 1\n",
    "v = 10 \n",
    "e = 0.3\n",
    "t0 = 0.4\n",
    "t1 = 0.1\n",
    "k = 0.4\n",
    "w = 1\n",
    "\n",
    "# We define the utility \n",
    "\n",
    "def utility(c, l, v, e):\n",
    "    u = np.log(c) - v*((l**(1+(1/e)))/(1+(1/e)))\n",
    "    return u\n",
    "\n",
    "def budget(l, w, m, t0, t1, k):\n",
    "    max_value = np.max(w*l-k,0)\n",
    "    x = m + w*l - (t0*w*l + t1*max_value)\n",
    "    return x\n",
    "\n",
    "\n",
    "# We now define the objective function\n",
    "def obj(l, w, e, t0, t1, k , v, m):\n",
    "    c = budget(m = m, w = w, l = l, t0 = t0, t1 = t1, k = k )\n",
    "    return -utility(l = l, c = c, e = e, v = v)\n",
    "\n",
    "# We define the optimizer and find optimum \n",
    "def optimizer(w, e, v, t0, t1, k, m):\n",
    "    sol = optimize.minimize_scalar(obj, method = 'bounded', bounds = (0,1), args = (w, e, v, t0, t1, k, m))\n",
    "    l_best = sol.x\n",
    "    c_best = budget(m = m, w = w, l = l_best, t0 = t0, t1 = t1, k = k)\n",
    "    u_best = utility(l = l_best, c = c_best, e = e, v = v)\n",
    "\n",
    "    return l_best, c_best, u_best\n",
    "\n",
    "l_best, c_best, u_best = optimizer(w = w, e = e,v = v,t0 = t0,t1 = t1,k = k, m = m)\n",
    "\n",
    "# f. print resultat\n",
    "print(f'Optimal labour supply is {l_best:.3f}')\n",
    "print(f'Optimal consumption is {c_best:.3f}')\n",
    "print(f'maximized utility is {u_best:.3f}')\n"
   ]
  },
  {
   "cell_type": "markdown",
   "metadata": {},
   "source": [
    "# Question 2"
   ]
  },
  {
   "cell_type": "markdown",
   "metadata": {},
   "source": [
    "ADD ANSWER."
   ]
  },
  {
   "cell_type": "code",
   "execution_count": 107,
   "metadata": {},
   "outputs": [
    {
     "name": "stderr",
     "output_type": "stream",
     "text": [
      "C:\\Users\\Frede\\Anaconda3\\lib\\site-packages\\ipykernel_launcher.py:14: RuntimeWarning: invalid value encountered in log\n",
      "  \n"
     ]
    },
    {
     "data": {
      "image/png": "[encoded data removed]",
      "text/plain": [
       "<Figure size 720x360 with 2 Axes>"
      ]
     },
     "metadata": {},
     "output_type": "display_data"
    }
   ],
   "source": [
    "plt.style.use('ggplot')\n",
    "N=1000\n",
    "w_vec = np.linspace(0.5, 1.5, num=N)\n",
    "#Create some empty list\n",
    "\n",
    "\n",
    "l_opt = np.empty(N)\n",
    "c_opt = np.empty(N)\n",
    "\n",
    "\n",
    "for i,w in enumerate(w_vec):\n",
    "    opt = optimizer(w,e,v,t0,t1,k,m)\n",
    "    l_opt[i] = opt[0]\n",
    "    c_opt[i] = opt[1]\n",
    "\n",
    "# a. create a figure\n",
    "fig = plt.figure(figsize=(10,5))\n",
    "\n",
    "# c. left plot\n",
    "ax_left = fig.add_subplot(1,2,1)\n",
    "\n",
    "ax_left.plot(w_vec,l_opt)\n",
    "\n",
    "ax_left.set_title('Optimal labour supply given wage')\n",
    "ax_left.set_xlabel('$w$')\n",
    "ax_left.set_ylabel('$l^\\star$')\n",
    "ax_left.grid(True)\n",
    "\n",
    "# c. right plot\n",
    "ax_right = fig.add_subplot(1,2,2)\n",
    "\n",
    "ax_right.plot(w_vec,c_opt)\n",
    "\n",
    "ax_right.set_title('Optimal consumption given wage')\n",
    "ax_right.set_xlabel('$w$')\n",
    "ax_right.set_ylabel('$c^\\star$')\n",
    "ax_right.grid(True)\n",
    "\n",
    "plt.show()"
   ]
  },
  {
   "cell_type": "markdown",
   "metadata": {},
   "source": [
    "# Question 3"
   ]
  },
  {
   "cell_type": "markdown",
   "metadata": {},
   "source": [
    "ADD ANSWER."
   ]
  },
  {
   "cell_type": "code",
   "execution_count": 108,
   "metadata": {},
   "outputs": [],
   "source": [
    "N = 10000 \n",
    "np.random.seed(100)\n",
    "w_list = np.random.uniform(low=0.5,high=1.5,size=N)\n"
   ]
  },
  {
   "cell_type": "markdown",
   "metadata": {},
   "source": [
    "# Question 4"
   ]
  },
  {
   "cell_type": "markdown",
   "metadata": {},
   "source": [
    "ADD ANSWER."
   ]
  },
  {
   "cell_type": "code",
   "execution_count": 5,
   "metadata": {},
   "outputs": [],
   "source": [
    "# code"
   ]
  },
  {
   "cell_type": "markdown",
   "metadata": {},
   "source": [
    "# Question 5"
   ]
  },
  {
   "cell_type": "markdown",
   "metadata": {},
   "source": [
    "ADD ANSWER."
   ]
  },
  {
   "cell_type": "code",
   "execution_count": 91,
   "metadata": {},
   "outputs": [
    {
     "name": "stderr",
     "output_type": "stream",
     "text": [
      "C:\\Users\\Frede\\Anaconda3\\lib\\site-packages\\ipykernel_launcher.py:11: RuntimeWarning: invalid value encountered in double_scalars\n",
      "  # This is added back by InteractiveShellApp.init_path()\n"
     ]
    }
   ],
   "source": []
  },
  {
   "cell_type": "markdown",
   "metadata": {},
   "source": [
    "# Conclusion"
   ]
  },
  {
   "cell_type": "markdown",
   "metadata": {},
   "source": [
    "ADD CONCISE CONLUSION."
   ]
  }
 ],
 "metadata": {
  "kernelspec": {
   "display_name": "Python 3",
   "language": "python",
   "name": "python3"
  },
  "language_info": {
   "codemirror_mode": {
    "name": "ipython",
    "version": 3
   },
   "file_extension": ".py",
   "mimetype": "text/x-python",
   "name": "python",
   "nbconvert_exporter": "python",
   "pygments_lexer": "ipython3",
   "version": "3.7.4"
  },
  "toc-autonumbering": true
 },
 "nbformat": 4,
 "nbformat_minor": 4
}
